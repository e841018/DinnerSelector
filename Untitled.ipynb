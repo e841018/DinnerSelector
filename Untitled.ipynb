{
 "cells": [
  {
   "cell_type": "code",
   "execution_count": 7,
   "metadata": {},
   "outputs": [
    {
     "name": "stdout",
     "output_type": "stream",
     "text": [
      "0.4631763709093864\n"
     ]
    }
   ],
   "source": [
    "s = 'xxooxoooxxoxxoxxoooxooxxxoxoxx'#mvnl\n",
    "#s = 'xoooxoxoxoooxoxxxoxxoxxxxxxoox'#小\n",
    "a = 0\n",
    "n = 0\n",
    "Sum = 0\n",
    "for i in s:\n",
    "    n += 1\n",
    "    if i == 'o':\n",
    "        a += 1\n",
    "    Sum += a/n\n",
    "print(Sum/30)"
   ]
  },
  {
   "cell_type": "code",
   "execution_count": null,
   "metadata": {},
   "outputs": [],
   "source": []
  }
 ],
 "metadata": {
  "kernelspec": {
   "display_name": "Python 3",
   "language": "python",
   "name": "python3"
  },
  "language_info": {
   "codemirror_mode": {
    "name": "ipython",
    "version": 3
   },
   "file_extension": ".py",
   "mimetype": "text/x-python",
   "name": "python",
   "nbconvert_exporter": "python",
   "pygments_lexer": "ipython3",
   "version": "3.7.1"
  }
 },
 "nbformat": 4,
 "nbformat_minor": 2
}
